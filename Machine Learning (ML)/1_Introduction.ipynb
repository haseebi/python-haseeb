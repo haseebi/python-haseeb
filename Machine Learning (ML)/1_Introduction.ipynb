{
 "cells": [
  {
   "cell_type": "markdown",
   "metadata": {},
   "source": [
    "# What is Machine Learning\n"
   ]
  },
  {
   "cell_type": "markdown",
   "metadata": {},
   "source": [
    "## 1 Supervised   Learning\n",
    "## 2 Unsupervised  Learning\n",
    "## 3 Reinforcement Learning"
   ]
  },
  {
   "cell_type": "markdown",
   "metadata": {},
   "source": [
    "# ========================================="
   ]
  },
  {
   "cell_type": "markdown",
   "metadata": {},
   "source": [
    "# Supervised Learning\n",
    "> ## 1.Classfication\n",
    "       SVM (Support Vector Machine )\n",
    "       logistic Regression\n",
    "       k-Nearest Neighbors (K-NN)\n",
    "       Kernal SVM\n",
    "       Navie Bayes\n",
    "       Decision Tree Classification\n",
    "       Random Forest Classification\n",
    "       Evaluating Classification Models Performance\n",
    "       \n",
    "> ## 2.Regression\n",
    "    Simple Linear Regression\n",
    "    Multiple Linear Regression\n",
    "    Polynomial Regression\n",
    "    SVR\n",
    "    Decision Tree Regression\n",
    "    Random Forest Regression\n",
    "    Evaluating Regression Models Performance\n",
    "\n",
    "\n",
    "# Unsupervised Learning\n",
    "> ## 1. Clustering\n",
    "    k-Means Clustering\n",
    "    Hierarchical Clustering \n",
    "    Gaussian mixture models\n",
    "    Self-organizing maps\n",
    "    Hidden Markov models\n",
    "\n",
    "# Reinforcement Learning\n",
    "    Q-Learning\n",
    "    State-Action-Reward-State-Action (SARSA)\n",
    "    Deep Q Network (DQN)\n",
    "    Deep Deterministic Policy Gradient (DDPG)"
   ]
  },
  {
   "cell_type": "markdown",
   "metadata": {},
   "source": [
    "# Deep Learning\n",
    "    1.Artifical Neural Networks\n",
    "    2.Convolutional Neural Networks\n"
   ]
  },
  {
   "cell_type": "markdown",
   "metadata": {},
   "source": [
    "# Dimensionality Reduction\n",
    "    1.Princilpe Compoent Analysis (PCA)\n",
    "    2.Linear Discriminant Analysis (LDA)\n",
    "    3. Kernal PCA\n"
   ]
  },
  {
   "cell_type": "markdown",
   "metadata": {},
   "source": [
    "# Model Selection and Boosting \n",
    "    1.k-Fold Cross Validation\n",
    "    2.Grid Search\n",
    "    3.XGBoost\n"
   ]
  },
  {
   "cell_type": "code",
   "execution_count": 4,
   "metadata": {},
   "outputs": [
    {
     "name": "stdout",
     "output_type": "stream",
     "text": [
      "['male' 'male']\n"
     ]
    }
   ],
   "source": [
    "from sklearn.tree import DecisionTreeClassifier\n",
    "clf=DecisionTreeClassifier()\n",
    "\n",
    "# ['hegit','80','shoe_size]\n",
    "\n",
    "\n",
    "X=[[181,80,40],[177,70,43],[160,60,38],[154,54,37],\n",
    "   [166,65,40],[190,90,47],[175,64,39],[177,70,40],\n",
    "   [159,55,37],[171,75,42],[181,85,43]]\n",
    "\n",
    "Y=['male','male','female','female','male','male','female','female','female','male','male']\n",
    "\n",
    "clf=clf.fit(X,Y) \n",
    "\n",
    "prediction=clf.predict([[177,87,46],[171,77,38]])\n",
    "print(prediction)"
   ]
  },
  {
   "cell_type": "code",
   "execution_count": null,
   "metadata": {},
   "outputs": [],
   "source": []
  }
 ],
 "metadata": {
  "kernelspec": {
   "display_name": "Python 3",
   "language": "python",
   "name": "python3"
  },
  "language_info": {
   "codemirror_mode": {
    "name": "ipython",
    "version": 3
   },
   "file_extension": ".py",
   "mimetype": "text/x-python",
   "name": "python",
   "nbconvert_exporter": "python",
   "pygments_lexer": "ipython3",
   "version": "3.6.8"
  }
 },
 "nbformat": 4,
 "nbformat_minor": 2
}
